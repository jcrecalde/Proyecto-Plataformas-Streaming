{
 "cells": [
  {
   "attachments": {},
   "cell_type": "markdown",
   "metadata": {},
   "source": [
    "MACHINE LEARNING"
   ]
  },
  {
   "attachments": {},
   "cell_type": "markdown",
   "metadata": {},
   "source": [
    "Mi objetivo es encontrar peliculas similares y para encontrar esa similitud me basaria en las puntuaciones y generos."
   ]
  },
  {
   "cell_type": "code",
   "execution_count": 93,
   "metadata": {},
   "outputs": [],
   "source": [
    "import pandas as pd  \n",
    "from sklearn.metrics.pairwise import cosine_similarity \n",
    "from sklearn.feature_extraction.text import TfidfVectorizer "
   ]
  },
  {
   "cell_type": "code",
   "execution_count": 98,
   "metadata": {},
   "outputs": [],
   "source": [
    "df = pd.read_csv(\"plataformas.csv\", sep=\",\")"
   ]
  },
  {
   "cell_type": "code",
   "execution_count": 99,
   "metadata": {},
   "outputs": [
    {
     "data": {
      "text/html": [
       "<div>\n",
       "<style scoped>\n",
       "    .dataframe tbody tr th:only-of-type {\n",
       "        vertical-align: middle;\n",
       "    }\n",
       "\n",
       "    .dataframe tbody tr th {\n",
       "        vertical-align: top;\n",
       "    }\n",
       "\n",
       "    .dataframe thead th {\n",
       "        text-align: right;\n",
       "    }\n",
       "</style>\n",
       "<table border=\"1\" class=\"dataframe\">\n",
       "  <thead>\n",
       "    <tr style=\"text-align: right;\">\n",
       "      <th></th>\n",
       "      <th>Unnamed: 0</th>\n",
       "      <th>id</th>\n",
       "      <th>title</th>\n",
       "      <th>director</th>\n",
       "      <th>cast</th>\n",
       "      <th>country</th>\n",
       "      <th>date_added</th>\n",
       "      <th>release_year</th>\n",
       "      <th>rating</th>\n",
       "      <th>listed_in</th>\n",
       "      <th>description</th>\n",
       "      <th>type</th>\n",
       "      <th>duration_int</th>\n",
       "      <th>duration_type</th>\n",
       "      <th>scored</th>\n",
       "    </tr>\n",
       "  </thead>\n",
       "  <tbody>\n",
       "    <tr>\n",
       "      <th>0</th>\n",
       "      <td>0</td>\n",
       "      <td>as1</td>\n",
       "      <td>the grand seduction</td>\n",
       "      <td>don mckellar</td>\n",
       "      <td>brendan gleeson, taylor kitsch, gordon pinsent</td>\n",
       "      <td>canada</td>\n",
       "      <td>2021-03-30</td>\n",
       "      <td>2014</td>\n",
       "      <td>g</td>\n",
       "      <td>comedy, drama</td>\n",
       "      <td>a small fishing village must procure a local d...</td>\n",
       "      <td>movie</td>\n",
       "      <td>113</td>\n",
       "      <td>min</td>\n",
       "      <td>3.5</td>\n",
       "    </tr>\n",
       "    <tr>\n",
       "      <th>1</th>\n",
       "      <td>1</td>\n",
       "      <td>as2</td>\n",
       "      <td>take care good night</td>\n",
       "      <td>girish joshi</td>\n",
       "      <td>mahesh manjrekar, abhay mahajan, sachin khedekar</td>\n",
       "      <td>india</td>\n",
       "      <td>2021-03-30</td>\n",
       "      <td>2018</td>\n",
       "      <td>13+</td>\n",
       "      <td>drama, international</td>\n",
       "      <td>a metro family decides to fight a cyber crimin...</td>\n",
       "      <td>movie</td>\n",
       "      <td>110</td>\n",
       "      <td>min</td>\n",
       "      <td>3.5</td>\n",
       "    </tr>\n",
       "  </tbody>\n",
       "</table>\n",
       "</div>"
      ],
      "text/plain": [
       "   Unnamed: 0   id                 title      director  \\\n",
       "0           0  as1   the grand seduction  don mckellar   \n",
       "1           1  as2  take care good night  girish joshi   \n",
       "\n",
       "                                               cast country  date_added  \\\n",
       "0    brendan gleeson, taylor kitsch, gordon pinsent  canada  2021-03-30   \n",
       "1  mahesh manjrekar, abhay mahajan, sachin khedekar   india  2021-03-30   \n",
       "\n",
       "   release_year rating             listed_in  \\\n",
       "0          2014      g         comedy, drama   \n",
       "1          2018    13+  drama, international   \n",
       "\n",
       "                                         description   type  duration_int  \\\n",
       "0  a small fishing village must procure a local d...  movie           113   \n",
       "1  a metro family decides to fight a cyber crimin...  movie           110   \n",
       "\n",
       "  duration_type  scored  \n",
       "0           min     3.5  \n",
       "1           min     3.5  "
      ]
     },
     "execution_count": 99,
     "metadata": {},
     "output_type": "execute_result"
    }
   ],
   "source": [
    "df.head(2)"
   ]
  },
  {
   "attachments": {},
   "cell_type": "markdown",
   "metadata": {},
   "source": [
    "Voy a comenzar a eliminar las columnas que no necesito. En mi caso voy a trabajar con la columna id,title,director,rating,type,listed_in y scored"
   ]
  },
  {
   "cell_type": "code",
   "execution_count": 100,
   "metadata": {},
   "outputs": [],
   "source": [
    "df_entrenamiento = df.drop(columns = [\"Unnamed: 0\", \"cast\", \"country\", \"date_added\", \"release_year\", \"duration_int\", \"duration_type\",\"director\", \"description\",\"id\",\"rating\",\"type\"])"
   ]
  },
  {
   "cell_type": "code",
   "execution_count": 101,
   "metadata": {},
   "outputs": [
    {
     "data": {
      "text/html": [
       "<div>\n",
       "<style scoped>\n",
       "    .dataframe tbody tr th:only-of-type {\n",
       "        vertical-align: middle;\n",
       "    }\n",
       "\n",
       "    .dataframe tbody tr th {\n",
       "        vertical-align: top;\n",
       "    }\n",
       "\n",
       "    .dataframe thead th {\n",
       "        text-align: right;\n",
       "    }\n",
       "</style>\n",
       "<table border=\"1\" class=\"dataframe\">\n",
       "  <thead>\n",
       "    <tr style=\"text-align: right;\">\n",
       "      <th></th>\n",
       "      <th>title</th>\n",
       "      <th>listed_in</th>\n",
       "      <th>scored</th>\n",
       "    </tr>\n",
       "  </thead>\n",
       "  <tbody>\n",
       "    <tr>\n",
       "      <th>0</th>\n",
       "      <td>the grand seduction</td>\n",
       "      <td>comedy, drama</td>\n",
       "      <td>3.5</td>\n",
       "    </tr>\n",
       "    <tr>\n",
       "      <th>1</th>\n",
       "      <td>take care good night</td>\n",
       "      <td>drama, international</td>\n",
       "      <td>3.5</td>\n",
       "    </tr>\n",
       "    <tr>\n",
       "      <th>2</th>\n",
       "      <td>secrets of deception</td>\n",
       "      <td>action, drama, suspense</td>\n",
       "      <td>3.5</td>\n",
       "    </tr>\n",
       "    <tr>\n",
       "      <th>3</th>\n",
       "      <td>pink: staying true</td>\n",
       "      <td>documentary</td>\n",
       "      <td>3.5</td>\n",
       "    </tr>\n",
       "    <tr>\n",
       "      <th>4</th>\n",
       "      <td>monster maker</td>\n",
       "      <td>drama, fantasy</td>\n",
       "      <td>3.5</td>\n",
       "    </tr>\n",
       "    <tr>\n",
       "      <th>...</th>\n",
       "      <td>...</td>\n",
       "      <td>...</td>\n",
       "      <td>...</td>\n",
       "    </tr>\n",
       "    <tr>\n",
       "      <th>17259</th>\n",
       "      <td>pan's labyrinth</td>\n",
       "      <td>dramas, international movies, sci-fi &amp; fantasy</td>\n",
       "      <td>3.5</td>\n",
       "    </tr>\n",
       "    <tr>\n",
       "      <th>17260</th>\n",
       "      <td>pokémon the movie: power of us</td>\n",
       "      <td>anime features, children &amp; family movies</td>\n",
       "      <td>3.5</td>\n",
       "    </tr>\n",
       "    <tr>\n",
       "      <th>17261</th>\n",
       "      <td>posesif</td>\n",
       "      <td>dramas, international movies, romantic movies</td>\n",
       "      <td>3.5</td>\n",
       "    </tr>\n",
       "    <tr>\n",
       "      <th>17262</th>\n",
       "      <td>reply 1988</td>\n",
       "      <td>international tv shows, korean tv shows, roman...</td>\n",
       "      <td>3.5</td>\n",
       "    </tr>\n",
       "    <tr>\n",
       "      <th>17263</th>\n",
       "      <td>riot</td>\n",
       "      <td>action &amp; adventure</td>\n",
       "      <td>3.6</td>\n",
       "    </tr>\n",
       "  </tbody>\n",
       "</table>\n",
       "<p>17264 rows × 3 columns</p>\n",
       "</div>"
      ],
      "text/plain": [
       "                                title  \\\n",
       "0                 the grand seduction   \n",
       "1                take care good night   \n",
       "2                secrets of deception   \n",
       "3                  pink: staying true   \n",
       "4                       monster maker   \n",
       "...                               ...   \n",
       "17259                 pan's labyrinth   \n",
       "17260  pokémon the movie: power of us   \n",
       "17261                         posesif   \n",
       "17262                      reply 1988   \n",
       "17263                            riot   \n",
       "\n",
       "                                               listed_in  scored  \n",
       "0                                          comedy, drama     3.5  \n",
       "1                                   drama, international     3.5  \n",
       "2                                action, drama, suspense     3.5  \n",
       "3                                            documentary     3.5  \n",
       "4                                         drama, fantasy     3.5  \n",
       "...                                                  ...     ...  \n",
       "17259     dramas, international movies, sci-fi & fantasy     3.5  \n",
       "17260           anime features, children & family movies     3.5  \n",
       "17261      dramas, international movies, romantic movies     3.5  \n",
       "17262  international tv shows, korean tv shows, roman...     3.5  \n",
       "17263                                 action & adventure     3.6  \n",
       "\n",
       "[17264 rows x 3 columns]"
      ]
     },
     "execution_count": 101,
     "metadata": {},
     "output_type": "execute_result"
    }
   ],
   "source": [
    "df_entrenamiento"
   ]
  },
  {
   "attachments": {},
   "cell_type": "markdown",
   "metadata": {},
   "source": [
    "Me fijo si hay datos nulos"
   ]
  },
  {
   "cell_type": "code",
   "execution_count": 73,
   "metadata": {},
   "outputs": [
    {
     "data": {
      "text/plain": [
       "id           0\n",
       "title        0\n",
       "rating       0\n",
       "listed_in    0\n",
       "type         0\n",
       "scored       0\n",
       "dtype: int64"
      ]
     },
     "execution_count": 73,
     "metadata": {},
     "output_type": "execute_result"
    }
   ],
   "source": [
    "df_entrenamiento.isnull().sum()"
   ]
  },
  {
   "attachments": {},
   "cell_type": "markdown",
   "metadata": {},
   "source": [
    "Obtengo los valores unicos de las diferentes columnas"
   ]
  },
  {
   "cell_type": "code",
   "execution_count": 74,
   "metadata": {},
   "outputs": [
    {
     "data": {
      "text/plain": [
       "drama                                      1061\n",
       "comedy                                      608\n",
       "comedy, drama                               421\n",
       "drama, suspense                             399\n",
       "documentary                                 375\n",
       "                                           ... \n",
       "animals & nature, coming of age, family       1\n",
       "family, fantasy                               1\n",
       "buddy, family, sports                         1\n",
       "animation, buddy, family                      1\n",
       "anime series, teen tv shows                   1\n",
       "Name: listed_in, Length: 1536, dtype: int64"
      ]
     },
     "execution_count": 74,
     "metadata": {},
     "output_type": "execute_result"
    }
   ],
   "source": [
    "df_entrenamiento[\"id\"].value_counts()  \n",
    "df_entrenamiento[\"title\"].value_counts() \n",
    "df_entrenamiento[\"rating\"].value_counts() #En este caso veo que hay valores que no corresponden a raiting  \n",
    "df_entrenamiento[\"type\"].value_counts() \n",
    "df_entrenamiento[\"scored\"].value_counts() \n",
    "df_entrenamiento[\"listed_in\"].value_counts()\n"
   ]
  },
  {
   "attachments": {},
   "cell_type": "markdown",
   "metadata": {},
   "source": [
    "Veo todos los datos diferentes que tengo"
   ]
  },
  {
   "cell_type": "code",
   "execution_count": 75,
   "metadata": {},
   "outputs": [
    {
     "data": {
      "text/plain": [
       "array(['comedy, drama', 'drama, international', 'action, drama, suspense',\n",
       "       ..., 'docuseries, reality tv, teen tv shows',\n",
       "       'crime tv shows, international tv shows, reality tv',\n",
       "       'anime series, teen tv shows'], dtype=object)"
      ]
     },
     "execution_count": 75,
     "metadata": {},
     "output_type": "execute_result"
    }
   ],
   "source": [
    "df_entrenamiento[\"type\"].unique() #Tiene solamente 2 valores y son los correctos \n",
    "df_entrenamiento[\"listed_in\"].unique()"
   ]
  },
  {
   "cell_type": "code",
   "execution_count": 14,
   "metadata": {},
   "outputs": [
    {
     "data": {
      "text/plain": [
       "array(['g', '13+', 'all', '18+', 'r', 'tv-y', 'tv-y7', 'nr', '16+',\n",
       "       'tv-pg', '7+', 'tv-14', 'tv-nr', 'tv-g', 'pg-13', 'tv-ma', 'pg',\n",
       "       'nc-17', 'unrated', '16', 'ages_16_', 'ages_18_', 'all_ages',\n",
       "       'not_rate', 'tv-y7-fv', 'not rated', '2 seasons', '93 min',\n",
       "       '4 seasons', '136 min', '91 min', '85 min', '98 min', '89 min',\n",
       "       '94 min', '86 min', '3 seasons', '121 min', '88 min', '101 min',\n",
       "       '1 season', '83 min', '100 min', '95 min', '92 min', '96 min',\n",
       "       '109 min', '99 min', '75 min', '87 min', '67 min', '104 min',\n",
       "       '107 min', '84 min', '103 min', '105 min', '119 min', '114 min',\n",
       "       '82 min', '90 min', '130 min', '110 min', '80 min', '6 seasons',\n",
       "       '97 min', '111 min', '81 min', '49 min', '45 min', '41 min',\n",
       "       '73 min', '40 min', '36 min', '39 min', '34 min', '47 min',\n",
       "       '65 min', '37 min', '78 min', '102 min', '129 min', '115 min',\n",
       "       '112 min', '61 min', '106 min', '76 min', '77 min', '79 min',\n",
       "       '157 min', '28 min', '64 min', '7 min', '5 min', '6 min',\n",
       "       '127 min', '142 min', '108 min', '57 min', '118 min', '116 min',\n",
       "       '12 seasons', '71 min'], dtype=object)"
      ]
     },
     "execution_count": 14,
     "metadata": {},
     "output_type": "execute_result"
    }
   ],
   "source": [
    "df_entrenamiento[\"rating\"].unique()"
   ]
  },
  {
   "cell_type": "code",
   "execution_count": 15,
   "metadata": {},
   "outputs": [
    {
     "data": {
      "text/plain": [
       "array([3.5, 3.6, 3.4, 3.7, 3.3])"
      ]
     },
     "execution_count": 15,
     "metadata": {},
     "output_type": "execute_result"
    }
   ],
   "source": [
    "df_entrenamiento[\"scored\"].unique() #Scored tiene los valores correctos, los que pertenecen a score"
   ]
  },
  {
   "attachments": {},
   "cell_type": "markdown",
   "metadata": {},
   "source": [
    "Mi conclucion es que hay datos que no necesito en esta columna. Ej: Min,season,notrate,ect."
   ]
  },
  {
   "attachments": {},
   "cell_type": "markdown",
   "metadata": {},
   "source": [
    "Ahora comienzo a eliminarlos y rellenar los datos que van a quedar vacios con not_rated."
   ]
  },
  {
   "cell_type": "code",
   "execution_count": 76,
   "metadata": {},
   "outputs": [],
   "source": [
    "clas = [\"g\",\"13+\",\"18+\"\"r\",\"tv-y\",\"tv-y7-fv\",\"16+\", \"tv-pg\", \"7+\", \"tv-14\", \"tv-ma\", \"pg\", \"nc-17\", \"unrated\", \"pg-13\"]  \n",
    "df_entrenamiento = df_entrenamiento[df_entrenamiento[\"rating\"].isin(clas)]\n"
   ]
  },
  {
   "attachments": {},
   "cell_type": "markdown",
   "metadata": {},
   "source": [
    "Relleno"
   ]
  },
  {
   "cell_type": "code",
   "execution_count": 78,
   "metadata": {},
   "outputs": [
    {
     "name": "stderr",
     "output_type": "stream",
     "text": [
      "C:\\Users\\Bounset\\AppData\\Local\\Temp\\ipykernel_9644\\1779072622.py:1: SettingWithCopyWarning: \n",
      "A value is trying to be set on a copy of a slice from a DataFrame\n",
      "\n",
      "See the caveats in the documentation: https://pandas.pydata.org/pandas-docs/stable/user_guide/indexing.html#returning-a-view-versus-a-copy\n",
      "  df_entrenamiento[\"rating\"].fillna(\"not rated\", inplace=True)\n",
      "C:\\Users\\Bounset\\AppData\\Local\\Temp\\ipykernel_9644\\1779072622.py:2: SettingWithCopyWarning: \n",
      "A value is trying to be set on a copy of a slice from a DataFrame\n",
      "\n",
      "See the caveats in the documentation: https://pandas.pydata.org/pandas-docs/stable/user_guide/indexing.html#returning-a-view-versus-a-copy\n",
      "  df_entrenamiento[\"listed_in\"].fillna(\"not rated\", inplace=True)\n"
     ]
    }
   ],
   "source": [
    "df_entrenamiento[\"rating\"].fillna(\"not rated\", inplace=True) \n",
    "df_entrenamiento[\"listed_in\"].fillna(\"not rated\", inplace=True)"
   ]
  },
  {
   "attachments": {},
   "cell_type": "markdown",
   "metadata": {},
   "source": [
    "Saco los espacios "
   ]
  },
  {
   "cell_type": "code",
   "execution_count": 79,
   "metadata": {},
   "outputs": [
    {
     "name": "stderr",
     "output_type": "stream",
     "text": [
      "C:\\Users\\Bounset\\AppData\\Local\\Temp\\ipykernel_9644\\792193736.py:1: SettingWithCopyWarning: \n",
      "A value is trying to be set on a copy of a slice from a DataFrame.\n",
      "Try using .loc[row_indexer,col_indexer] = value instead\n",
      "\n",
      "See the caveats in the documentation: https://pandas.pydata.org/pandas-docs/stable/user_guide/indexing.html#returning-a-view-versus-a-copy\n",
      "  df_entrenamiento['title'] = df_entrenamiento['title'].str.replace(' ', '_')\n"
     ]
    }
   ],
   "source": [
    "df_entrenamiento['title'] = df_entrenamiento['title'].str.replace(' ', '_')"
   ]
  },
  {
   "cell_type": "code",
   "execution_count": 94,
   "metadata": {},
   "outputs": [
    {
     "data": {
      "text/html": [
       "<div>\n",
       "<style scoped>\n",
       "    .dataframe tbody tr th:only-of-type {\n",
       "        vertical-align: middle;\n",
       "    }\n",
       "\n",
       "    .dataframe tbody tr th {\n",
       "        vertical-align: top;\n",
       "    }\n",
       "\n",
       "    .dataframe thead th {\n",
       "        text-align: right;\n",
       "    }\n",
       "</style>\n",
       "<table border=\"1\" class=\"dataframe\">\n",
       "  <thead>\n",
       "    <tr style=\"text-align: right;\">\n",
       "      <th></th>\n",
       "      <th>id</th>\n",
       "      <th>title</th>\n",
       "      <th>rating</th>\n",
       "      <th>listed_in</th>\n",
       "      <th>type</th>\n",
       "      <th>scored</th>\n",
       "    </tr>\n",
       "  </thead>\n",
       "  <tbody>\n",
       "    <tr>\n",
       "      <th>0</th>\n",
       "      <td>as1</td>\n",
       "      <td>the_grand_seduction</td>\n",
       "      <td>g</td>\n",
       "      <td>comedy, drama</td>\n",
       "      <td>movie</td>\n",
       "      <td>3.5</td>\n",
       "    </tr>\n",
       "    <tr>\n",
       "      <th>1</th>\n",
       "      <td>as2</td>\n",
       "      <td>take_care_good_night</td>\n",
       "      <td>13+</td>\n",
       "      <td>drama, international</td>\n",
       "      <td>movie</td>\n",
       "      <td>3.5</td>\n",
       "    </tr>\n",
       "    <tr>\n",
       "      <th>2</th>\n",
       "      <td>as3</td>\n",
       "      <td>secrets_of_deception</td>\n",
       "      <td>g</td>\n",
       "      <td>action, drama, suspense</td>\n",
       "      <td>movie</td>\n",
       "      <td>3.5</td>\n",
       "    </tr>\n",
       "    <tr>\n",
       "      <th>3</th>\n",
       "      <td>as4</td>\n",
       "      <td>pink:_staying_true</td>\n",
       "      <td>g</td>\n",
       "      <td>documentary</td>\n",
       "      <td>movie</td>\n",
       "      <td>3.5</td>\n",
       "    </tr>\n",
       "    <tr>\n",
       "      <th>4</th>\n",
       "      <td>as5</td>\n",
       "      <td>monster_maker</td>\n",
       "      <td>g</td>\n",
       "      <td>drama, fantasy</td>\n",
       "      <td>movie</td>\n",
       "      <td>3.5</td>\n",
       "    </tr>\n",
       "    <tr>\n",
       "      <th>...</th>\n",
       "      <td>...</td>\n",
       "      <td>...</td>\n",
       "      <td>...</td>\n",
       "      <td>...</td>\n",
       "      <td>...</td>\n",
       "      <td>...</td>\n",
       "    </tr>\n",
       "    <tr>\n",
       "      <th>17256</th>\n",
       "      <td>ns3066</td>\n",
       "      <td>messiah</td>\n",
       "      <td>tv-ma</td>\n",
       "      <td>tv dramas, tv thrillers</td>\n",
       "      <td>tv show</td>\n",
       "      <td>3.6</td>\n",
       "    </tr>\n",
       "    <tr>\n",
       "      <th>17258</th>\n",
       "      <td>ns3068</td>\n",
       "      <td>nisman:_the_prosecutor,_the_president,_and_the...</td>\n",
       "      <td>tv-ma</td>\n",
       "      <td>crime tv shows, docuseries, international tv s...</td>\n",
       "      <td>tv show</td>\n",
       "      <td>3.6</td>\n",
       "    </tr>\n",
       "    <tr>\n",
       "      <th>17261</th>\n",
       "      <td>ns3071</td>\n",
       "      <td>posesif</td>\n",
       "      <td>tv-ma</td>\n",
       "      <td>dramas, international movies, romantic movies</td>\n",
       "      <td>movie</td>\n",
       "      <td>3.5</td>\n",
       "    </tr>\n",
       "    <tr>\n",
       "      <th>17262</th>\n",
       "      <td>ns3072</td>\n",
       "      <td>reply_1988</td>\n",
       "      <td>tv-14</td>\n",
       "      <td>international tv shows, korean tv shows, roman...</td>\n",
       "      <td>tv show</td>\n",
       "      <td>3.5</td>\n",
       "    </tr>\n",
       "    <tr>\n",
       "      <th>17263</th>\n",
       "      <td>ns3073</td>\n",
       "      <td>riot</td>\n",
       "      <td>tv-ma</td>\n",
       "      <td>action &amp; adventure</td>\n",
       "      <td>movie</td>\n",
       "      <td>3.6</td>\n",
       "    </tr>\n",
       "  </tbody>\n",
       "</table>\n",
       "<p>11474 rows × 6 columns</p>\n",
       "</div>"
      ],
      "text/plain": [
       "           id                                              title rating  \\\n",
       "0         as1                                the_grand_seduction      g   \n",
       "1         as2                               take_care_good_night    13+   \n",
       "2         as3                               secrets_of_deception      g   \n",
       "3         as4                                 pink:_staying_true      g   \n",
       "4         as5                                      monster_maker      g   \n",
       "...       ...                                                ...    ...   \n",
       "17256  ns3066                                            messiah  tv-ma   \n",
       "17258  ns3068  nisman:_the_prosecutor,_the_president,_and_the...  tv-ma   \n",
       "17261  ns3071                                            posesif  tv-ma   \n",
       "17262  ns3072                                         reply_1988  tv-14   \n",
       "17263  ns3073                                               riot  tv-ma   \n",
       "\n",
       "                                               listed_in     type  scored  \n",
       "0                                          comedy, drama    movie     3.5  \n",
       "1                                   drama, international    movie     3.5  \n",
       "2                                action, drama, suspense    movie     3.5  \n",
       "3                                            documentary    movie     3.5  \n",
       "4                                         drama, fantasy    movie     3.5  \n",
       "...                                                  ...      ...     ...  \n",
       "17256                            tv dramas, tv thrillers  tv show     3.6  \n",
       "17258  crime tv shows, docuseries, international tv s...  tv show     3.6  \n",
       "17261      dramas, international movies, romantic movies    movie     3.5  \n",
       "17262  international tv shows, korean tv shows, roman...  tv show     3.5  \n",
       "17263                                 action & adventure    movie     3.6  \n",
       "\n",
       "[11474 rows x 6 columns]"
      ]
     },
     "execution_count": 94,
     "metadata": {},
     "output_type": "execute_result"
    }
   ],
   "source": [
    "df_entrenamiento"
   ]
  },
  {
   "cell_type": "code",
   "execution_count": 60,
   "metadata": {},
   "outputs": [
    {
     "data": {
      "text/plain": [
       "array(['the_grand_seduction', 'take_care_good_night',\n",
       "       'secrets_of_deception', ..., 'posesif', 'reply_1988', 'riot'],\n",
       "      dtype=object)"
      ]
     },
     "execution_count": 60,
     "metadata": {},
     "output_type": "execute_result"
    }
   ],
   "source": [
    "df_entrenamiento[\"title\"].values"
   ]
  },
  {
   "cell_type": "code",
   "execution_count": 104,
   "metadata": {},
   "outputs": [
    {
     "data": {
      "text/html": [
       "<div>\n",
       "<style scoped>\n",
       "    .dataframe tbody tr th:only-of-type {\n",
       "        vertical-align: middle;\n",
       "    }\n",
       "\n",
       "    .dataframe tbody tr th {\n",
       "        vertical-align: top;\n",
       "    }\n",
       "\n",
       "    .dataframe thead th {\n",
       "        text-align: right;\n",
       "    }\n",
       "</style>\n",
       "<table border=\"1\" class=\"dataframe\">\n",
       "  <thead>\n",
       "    <tr style=\"text-align: right;\">\n",
       "      <th></th>\n",
       "      <th>title</th>\n",
       "      <th>listed_in</th>\n",
       "      <th>scored</th>\n",
       "    </tr>\n",
       "  </thead>\n",
       "  <tbody>\n",
       "    <tr>\n",
       "      <th>0</th>\n",
       "      <td>the grand seduction</td>\n",
       "      <td>comedy, drama</td>\n",
       "      <td>3.5</td>\n",
       "    </tr>\n",
       "    <tr>\n",
       "      <th>1</th>\n",
       "      <td>take care good night</td>\n",
       "      <td>drama, international</td>\n",
       "      <td>3.5</td>\n",
       "    </tr>\n",
       "    <tr>\n",
       "      <th>2</th>\n",
       "      <td>secrets of deception</td>\n",
       "      <td>action, drama, suspense</td>\n",
       "      <td>3.5</td>\n",
       "    </tr>\n",
       "    <tr>\n",
       "      <th>3</th>\n",
       "      <td>pink: staying true</td>\n",
       "      <td>documentary</td>\n",
       "      <td>3.5</td>\n",
       "    </tr>\n",
       "    <tr>\n",
       "      <th>4</th>\n",
       "      <td>monster maker</td>\n",
       "      <td>drama, fantasy</td>\n",
       "      <td>3.5</td>\n",
       "    </tr>\n",
       "    <tr>\n",
       "      <th>...</th>\n",
       "      <td>...</td>\n",
       "      <td>...</td>\n",
       "      <td>...</td>\n",
       "    </tr>\n",
       "    <tr>\n",
       "      <th>17259</th>\n",
       "      <td>pan's labyrinth</td>\n",
       "      <td>dramas, international movies, sci-fi &amp; fantasy</td>\n",
       "      <td>3.5</td>\n",
       "    </tr>\n",
       "    <tr>\n",
       "      <th>17260</th>\n",
       "      <td>pokémon the movie: power of us</td>\n",
       "      <td>anime features, children &amp; family movies</td>\n",
       "      <td>3.5</td>\n",
       "    </tr>\n",
       "    <tr>\n",
       "      <th>17261</th>\n",
       "      <td>posesif</td>\n",
       "      <td>dramas, international movies, romantic movies</td>\n",
       "      <td>3.5</td>\n",
       "    </tr>\n",
       "    <tr>\n",
       "      <th>17262</th>\n",
       "      <td>reply 1988</td>\n",
       "      <td>international tv shows, korean tv shows, roman...</td>\n",
       "      <td>3.5</td>\n",
       "    </tr>\n",
       "    <tr>\n",
       "      <th>17263</th>\n",
       "      <td>riot</td>\n",
       "      <td>action &amp; adventure</td>\n",
       "      <td>3.6</td>\n",
       "    </tr>\n",
       "  </tbody>\n",
       "</table>\n",
       "<p>17264 rows × 3 columns</p>\n",
       "</div>"
      ],
      "text/plain": [
       "                                title  \\\n",
       "0                 the grand seduction   \n",
       "1                take care good night   \n",
       "2                secrets of deception   \n",
       "3                  pink: staying true   \n",
       "4                       monster maker   \n",
       "...                               ...   \n",
       "17259                 pan's labyrinth   \n",
       "17260  pokémon the movie: power of us   \n",
       "17261                         posesif   \n",
       "17262                      reply 1988   \n",
       "17263                            riot   \n",
       "\n",
       "                                               listed_in  scored  \n",
       "0                                          comedy, drama     3.5  \n",
       "1                                   drama, international     3.5  \n",
       "2                                action, drama, suspense     3.5  \n",
       "3                                            documentary     3.5  \n",
       "4                                         drama, fantasy     3.5  \n",
       "...                                                  ...     ...  \n",
       "17259     dramas, international movies, sci-fi & fantasy     3.5  \n",
       "17260           anime features, children & family movies     3.5  \n",
       "17261      dramas, international movies, romantic movies     3.5  \n",
       "17262  international tv shows, korean tv shows, roman...     3.5  \n",
       "17263                                 action & adventure     3.6  \n",
       "\n",
       "[17264 rows x 3 columns]"
      ]
     },
     "execution_count": 104,
     "metadata": {},
     "output_type": "execute_result"
    }
   ],
   "source": [
    "df_entrenamiento"
   ]
  },
  {
   "attachments": {},
   "cell_type": "markdown",
   "metadata": {},
   "source": [
    "MODELO MACHINE LEARNING"
   ]
  },
  {
   "cell_type": "code",
   "execution_count": 111,
   "metadata": {},
   "outputs": [],
   "source": [
    "def get_recommendation(title: str): \n",
    "    #Obtengo la fila correspondiente a la pelicula de interes \n",
    "    peliculas_idx = df_entrenamiento[df_entrenamiento[\"title\"] == title].index[0]  \n",
    "    #Creo una instancia de TfidfVectorizer y creo la matriz de frecuencia de términos  \n",
    "    tfidf = TfidfVectorizer(stop_words=\"english\") \n",
    "    tfidf_matrix = tfidf.fit_transform(df_entrenamiento[\"listed_in\"])  \n",
    "    #Calculo la similitud del coseno \n",
    "    cosine_sim = cosine_similarity(tfidf_matrix, tfidf_matrix) \n",
    "    #Obtengo las peliculas por similitud \n",
    "    peliculas_similares = list(enumerate(cosine_sim[peliculas_idx]))  \n",
    "    #Ordeno las peliculas por similitud \n",
    "    agregar_peliculas = sorted(peliculas_similares, key=lambda x: x[1], reverse=True)\n",
    "    #Obtengo los indices de las 5 peliculas mas similares  \n",
    "    top_similar = [i[0] for i in agregar_peliculas[1:6]] \n",
    "    #Obtengo los nombres de las pelicualas mas similares \n",
    "    top_similares_titulos = df_entrenamiento[\"title\"].iloc[top_similar] \n",
    "    #Obtengo los scores de las peliculas mas similares \n",
    "    top_similares_score = [agregar_peliculas[i][1] for i in top_similar] \n",
    "    #Obtengo las peliculas similares y a la ves que presentan mayor score  \n",
    "    #Zip toma dos iterables y los combia en una lista de tuplas en este caso los 2 escores \n",
    "    #Desempaqueto las tuplas en la lista ordenada, donde _ representa la variable score y x el titulo.\n",
    "    peliculas_recomendadas = [x for _, x in sorted(zip(top_similares_score, top_similares_titulos), reverse=True)][:5]\n",
    "    return {\"titulo\": peliculas_recomendadas}\n"
   ]
  },
  {
   "cell_type": "code",
   "execution_count": 113,
   "metadata": {},
   "outputs": [
    {
     "data": {
      "text/plain": [
       "{'titulo': ['z: the beginning of everything',\n",
       "  'you, me and him',\n",
       "  'walter',\n",
       "  'waiting on mary',\n",
       "  \"summer '03\"]}"
      ]
     },
     "execution_count": 113,
     "metadata": {},
     "output_type": "execute_result"
    }
   ],
   "source": [
    "get_recommendation(\"the grand seduction\")"
   ]
  },
  {
   "attachments": {},
   "cell_type": "markdown",
   "metadata": {},
   "source": [
    "Aca creo un nuevo csv que va a ser para mi funcion de machine learning, para llamarlo luego en mi api"
   ]
  },
  {
   "cell_type": "code",
   "execution_count": 109,
   "metadata": {},
   "outputs": [],
   "source": [
    "df_entrenamiento.to_csv(\"ML.csv\", index =False)"
   ]
  }
 ],
 "metadata": {
  "kernelspec": {
   "display_name": "Python 3",
   "language": "python",
   "name": "python3"
  },
  "language_info": {
   "codemirror_mode": {
    "name": "ipython",
    "version": 3
   },
   "file_extension": ".py",
   "mimetype": "text/x-python",
   "name": "python",
   "nbconvert_exporter": "python",
   "pygments_lexer": "ipython3",
   "version": "3.11.1"
  },
  "orig_nbformat": 4
 },
 "nbformat": 4,
 "nbformat_minor": 2
}
