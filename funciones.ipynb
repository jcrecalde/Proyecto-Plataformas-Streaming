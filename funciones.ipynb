{
 "cells": [
  {
   "cell_type": "code",
   "execution_count": 4,
   "metadata": {},
   "outputs": [],
   "source": [
    "import pandas as pd \n",
    "df = pd.read_csv(\"plataformas.csv\", sep=\",\")"
   ]
  },
  {
   "attachments": {},
   "cell_type": "markdown",
   "metadata": {},
   "source": [
    "Pelicula con mayor duracion según año, plataforma y tipo de duración"
   ]
  },
  {
   "cell_type": "code",
   "execution_count": 4,
   "metadata": {},
   "outputs": [],
   "source": [
    "def get_max_duration(year: int, platform: str, duration_type: str):  \n",
    "    # Cargar el archivo CSV en un DataFrame. Y le aclaro en parse_dates para indicarle a pandas que esa columna debe ser tratada como fecha en ves de cadena de caracteres\n",
    "    df = pd.read_csv(\"plataformas.csv\", parse_dates=[\"date_added\"]) \n",
    "     \n",
    "    # Voy a indicarle en plataforma que me interesa la primer letra que es como le indique a la hora de crearlo para cada plataforma. (Ej:Netflix = n)\n",
    "    # Tambien si el usuario ingresa en mayuscula que lo cambie a minuscula \n",
    "    duration_type = duration_type.lower() \n",
    "    platfrom = platform.lower()[0] \n",
    "     \n",
    "    #Filtro por año de lanzamiento y por plataforma. Que tenga encuentra la primer letra de id \n",
    "    df = df[(df[\"release_year\"] == year) & (df[\"id\"].str.startswith(platfrom)) & (df[\"duration_type\"] == duration_type) & (df[\"type\"] == \"movie\")] \n",
    "\n",
    "    #En la condicion voy a indicar tanto la palabra en ingles como español\n",
    "    if duration_type == \"min\" or duration_type == \"duration\" or duration_type == \"duracion\": \n",
    "       #Filtro por duracion y que devuelva todos los datos\n",
    "       df_duration = df[df[\"duration_type\"] == duration_type] \n",
    "       max_duration = df_duration[\"duration_int\"].max()   \n",
    "       max_duration_data = df_duration.loc[df_duration[\"duration_int\"] == max_duration] \n",
    "     \n",
    "    # En este caso lo mismo, indico tanto el ingreso en ingles como español\n",
    "    elif duration_type == \"seasons\" or duration_type == \"temporada\": \n",
    "        df_duration = df[df[\"duration_type\"] == duration_type] \n",
    "        max_duration = df_duration[\"duration_int\"].max()   \n",
    "        max_duration_data = df_duration.loc[df_duration[\"duration_int\"] == max_duration]  \n",
    "      \n",
    "    # Selecciono el primer registro de max_duration_date y obtengo el titulo que cumplen la condicion\n",
    "    title = max_duration_data.iloc[0][\"title\"]\n",
    "    \n",
    "    #Retorno el titulo de la pelicula con mayor duracion. Ya que en max_duration_data tenia toda la informacion de esa pelicula y solo me pedia devolver el titulo\n",
    "    return title"
   ]
  },
  {
   "cell_type": "code",
   "execution_count": 5,
   "metadata": {},
   "outputs": [
    {
     "data": {
      "text/plain": [
       "'this earth of mankind'"
      ]
     },
     "execution_count": 5,
     "metadata": {},
     "output_type": "execute_result"
    }
   ],
   "source": [
    "#Ejecuto la funcion \n",
    "get_max_duration(2019,\"NETFLIX\",\"min\")"
   ]
  },
  {
   "attachments": {},
   "cell_type": "markdown",
   "metadata": {},
   "source": [
    "Cantidad de películas según plataforma, con un puntaje mayor a XX en determinado año."
   ]
  },
  {
   "cell_type": "code",
   "execution_count": 6,
   "metadata": {},
   "outputs": [],
   "source": [
    "def get_score_count(platform: str, scored: float, year: int) -> int: \n",
    "      \n",
    "    df = pd.read_csv(\"plataformas.csv\", parse_dates=[\"date_added\"]) \n",
    "     \n",
    "    # Convierto a minúsculas y obtengo la primera letra de la plataforma  \n",
    "    platform = platform.lower()[0] \n",
    "     \n",
    "    #Filtro el df para que sea pelicula solamente,  \n",
    "    # selecciono todas las filas que tienen el valor de id que comienza con la letra que representa la plataforma(startswith)  \n",
    "    # Que el valor sea mayor al de scored \n",
    "    # Y el año de la pelicula que se paso en la funcion\n",
    "    df_filtrado = df.loc[(df[\"type\"] == \"movie\") & (df[\"id\"].str.startswith(platform)) & (df[\"scored\"] > scored) & (df[\"release_year\"] == year)]\n",
    "\n",
    "    # Devolver la cantidad de filas del DataFrame resultante \n",
    "    return len(df_filtrado)"
   ]
  },
  {
   "cell_type": "code",
   "execution_count": 7,
   "metadata": {},
   "outputs": [
    {
     "data": {
      "text/plain": [
       "226"
      ]
     },
     "execution_count": 7,
     "metadata": {},
     "output_type": "execute_result"
    }
   ],
   "source": [
    "get_score_count(\"netflix\", 1.5, 2019)"
   ]
  },
  {
   "attachments": {},
   "cell_type": "markdown",
   "metadata": {},
   "source": [
    "Cantidad de películas debe devolver un int, con el número total de películas de esa plataforma. Las plataformas deben llamarse amazon, netflix, hulu, disney."
   ]
  },
  {
   "cell_type": "code",
   "execution_count": 8,
   "metadata": {},
   "outputs": [],
   "source": [
    "def get_count_platform(platform):  \n",
    "    df = pd.read_csv(\"plataformas.csv\", parse_dates=[\"date_added\"]) \n",
    "    #Como anteriormente me voy a asegurar que lo que se ingrese lo pase a minusculas \n",
    "    platform = platform.lower() \n",
    "    platform = platform.lower()[0]   \n",
    "    #filtro \n",
    "    df_filtrado = df.loc[(df[\"type\"] == \"movie\") & (df[\"id\"].str.startswith(platform))] \n",
    "    #Ahora cuento la cantidad de filas del df_filtrado con las condiciones y selecciono el primer elemento \n",
    "    count = df_filtrado.shape[0] \n",
    "    return count"
   ]
  },
  {
   "cell_type": "code",
   "execution_count": 9,
   "metadata": {},
   "outputs": [
    {
     "data": {
      "text/plain": [
       "1484"
      ]
     },
     "execution_count": 9,
     "metadata": {},
     "output_type": "execute_result"
    }
   ],
   "source": [
    "get_count_platform(\"HULU\")"
   ]
  },
  {
   "attachments": {},
   "cell_type": "markdown",
   "metadata": {},
   "source": [
    "Actor que más se repite según plataforma y año. Debo devolver el nombre del actor que más se repite según la plataforma y el año dado."
   ]
  },
  {
   "cell_type": "code",
   "execution_count": 10,
   "metadata": {},
   "outputs": [],
   "source": [
    "def get_actor(platform: str, year: int):\n",
    "     \n",
    "    df = pd.read_csv(\"plataformas.csv\", parse_dates=[\"date_added\"])\n",
    "\n",
    "    # Filtro por plataforma y año\n",
    "    platform = platform.lower()[0]\n",
    "    df = df[(df[\"id\"].str.startswith(platform)) & (df[\"release_year\"] == year) & (df[\"type\"] == \"movie\")]\n",
    "\n",
    "    # filtro una lista con todos los actores \n",
    "    #Utilizo flatten para obtener un array de numpy unidimensional con todos los valores.  \n",
    "    #De esta manera, obtengo una lista de todos los actores presentes en el dataframe, sin importar en qué columna aparezcan.\n",
    "    actores = df[\"cast\"].str.split(\", \", expand=True).values.flatten() \n",
    "     \n",
    "    # Compruebo si la lista de actores está vacía O tenemos valores en NaN. Si esta condicion se cumple devuelvo \"no hay datos\".\n",
    "    if actores.size == 0 or pd.isnull(actores).all():\n",
    "        return \"no hay datos\"\n",
    "\n",
    "    # Contar la cantidad de veces que aparece cada actor\n",
    "    cantidad_actores = pd.Series(actores).value_counts()\n",
    "\n",
    "    # Obtener el actor más repetido\n",
    "    top_actor = cantidad_actores.idxmax()\n",
    "\n",
    "    # Devolver el nombre del actor\n",
    "    return top_actor"
   ]
  },
  {
   "cell_type": "code",
   "execution_count": 11,
   "metadata": {},
   "outputs": [
    {
     "data": {
      "text/plain": [
       "'kathleen turner'"
      ]
     },
     "execution_count": 11,
     "metadata": {},
     "output_type": "execute_result"
    }
   ],
   "source": [
    "get_actor(\"amazon_prime\", 2000)"
   ]
  },
  {
   "attachments": {},
   "cell_type": "markdown",
   "metadata": {},
   "source": [
    "La cantidad de contenidos/productos que se publicó por país y año. Debo devolver el tipo de contenido (pelicula,serie,documental) por pais y año en un diccionario con las variables llamadas 'pais' (nombre del pais), 'anio' (año), 'pelicula' (tipo de contenido)."
   ]
  },
  {
   "cell_type": "code",
   "execution_count": 12,
   "metadata": {},
   "outputs": [],
   "source": [
    "def prod_per_country(tipo: str, pais: str, anio: int):\n",
    "\n",
    "    # Filtro por tipo de contenido, país y año.\n",
    "    data = df[(df[\"type\"] == tipo.lower()) & (df[\"country\"] == pais) & (df[\"release_year\"] == anio)]\n",
    "\n",
    "    # Agrupo los datos por país, año y tipo de contenido, y cuento la cantidad de productos en cada grupo. \n",
    "    #Un count del grupo para que me cuente la cantidad de veces que aparece cada combinacion unica de las 3 columnas\n",
    "    #Reset_index elimino el indice actual y lo reemplazo por una secuencia numerica para hacer mas facil contarlos\n",
    "    cantidad_producto = data.groupby([\"country\", \"release_year\", \"type\"]).count()[\"id\"].reset_index()\n",
    "\n",
    "    # Creo un diccionario con los resultados y lo devuelvo.\n",
    "    resultado = {\n",
    "        \"pais\": pais,\n",
    "        \"anio\": anio,\n",
    "        \"contenido\": tipo, \n",
    "        # Accedo al valor de la columna id de la primera fila del df can tidad_producto. Y despues si la cantidad es mayor a 0 muestro la cantidad si no 0.\n",
    "        \"cantidad\": int(cantidad_producto.iloc[0][\"id\"]) if len(cantidad_producto) > 0 else 0\n",
    "    }\n",
    "\n",
    "    return resultado"
   ]
  },
  {
   "cell_type": "code",
   "execution_count": 13,
   "metadata": {},
   "outputs": [
    {
     "data": {
      "text/plain": [
       "{'pais': 'south korea', 'anio': 2015, 'contenido': 'seasons', 'cantidad': 0}"
      ]
     },
     "execution_count": 13,
     "metadata": {},
     "output_type": "execute_result"
    }
   ],
   "source": [
    "prod_per_country(\"seasons\",\"south korea\", 2015)"
   ]
  },
  {
   "attachments": {},
   "cell_type": "markdown",
   "metadata": {},
   "source": [
    "Esto quiere decir que en south korea en el año 2017 hubo 3 tv show."
   ]
  },
  {
   "attachments": {},
   "cell_type": "markdown",
   "metadata": {},
   "source": [
    "La cantidad total de contenidos/productos (todo lo disponible en streaming, series, documentales, peliculas, etc) según el rating de audiencia dado (para que publico fue clasificada la pelicula). La función debe llamarse get_contents(rating) y debe devolver el numero total de contenido con ese rating de audiencias."
   ]
  },
  {
   "cell_type": "code",
   "execution_count": 14,
   "metadata": {},
   "outputs": [],
   "source": [
    "def get_contents(rating: str):\n",
    "    # Cargar el archivo CSV en un DataFrame.\n",
    "    df = pd.read_csv(\"plataformas.csv\", parse_dates=[\"date_added\"]) \n",
    "\n",
    "    # Filtro por rating de audiencia.\n",
    "    df = df[df[\"rating\"] == rating]\n",
    "\n",
    "    # Cuento la cantidad de productos que cumplen con la condición.\n",
    "    numero_contents = len(df)\n",
    "\n",
    "    return numero_contents"
   ]
  },
  {
   "cell_type": "code",
   "execution_count": 15,
   "metadata": {},
   "outputs": [
    {
     "data": {
      "text/plain": [
       "1231"
      ]
     },
     "execution_count": 15,
     "metadata": {},
     "output_type": "execute_result"
    }
   ],
   "source": [
    "get_contents(\"g\")"
   ]
  }
 ],
 "metadata": {
  "kernelspec": {
   "display_name": "Python 3",
   "language": "python",
   "name": "python3"
  },
  "language_info": {
   "codemirror_mode": {
    "name": "ipython",
    "version": 3
   },
   "file_extension": ".py",
   "mimetype": "text/x-python",
   "name": "python",
   "nbconvert_exporter": "python",
   "pygments_lexer": "ipython3",
   "version": "3.11.1"
  },
  "orig_nbformat": 4
 },
 "nbformat": 4,
 "nbformat_minor": 2
}
