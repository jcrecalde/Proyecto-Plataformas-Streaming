{
 "cells": [
  {
   "attachments": {},
   "cell_type": "markdown",
   "metadata": {},
   "source": [
    "Transformacion"
   ]
  },
  {
   "cell_type": "code",
   "execution_count": null,
   "metadata": {},
   "outputs": [],
   "source": [
    "#Importar las librerias que voy a utilizar \n",
    "import pandas as pd \n",
    "plataformas = pd.read_csv(\"plataformas.csv\", sep=\",\")"
   ]
  },
  {
   "cell_type": "code",
   "execution_count": null,
   "metadata": {},
   "outputs": [],
   "source": [
    "# Cargar cada uno de los csv  \n",
    "amazon_prime = pd.read_csv(\"amazon_prime_titles.csv\", encoding=\"utf-8\", sep=\",\") \n",
    "disney = pd.read_csv(\"disney_plus_titles.csv\", encoding=\"utf-8\", sep=\",\") \n",
    "hulu = pd.read_csv(\"hulu_titles.csv\", encoding=\"utf-8\", sep=\",\") \n",
    "netflix = pd.read_csv(\"netflix_titles.csv\", encoding=\"utf-8\", sep=\",\")\n"
   ]
  },
  {
   "cell_type": "code",
   "execution_count": null,
   "metadata": {},
   "outputs": [],
   "source": [
    "#   \n",
    "amazon_prime[\"id\"] = \"a\" + amazon_prime[\"show_id\"] \n",
    "disney[\"id\"] = \"d\" + disney[\"show_id\"] \n",
    "hulu[\"id\"] = \"h\" + hulu[\"show_id\"]  \n",
    "netflix[\"id\"] = \"n\" + hulu[\"show_id\"] \n"
   ]
  },
  {
   "cell_type": "code",
   "execution_count": null,
   "metadata": {},
   "outputs": [],
   "source": [
    "amazon_prime = amazon_prime.drop(columns=[\"show_id\"]) \n",
    "disney = disney.drop(columns=[\"show_id\"]) \n",
    "hulu = hulu.drop(columns=[\"show_id\"]) \n",
    "netflix = netflix.drop(columns=[\"show_id\"])"
   ]
  },
  {
   "cell_type": "code",
   "execution_count": null,
   "metadata": {},
   "outputs": [],
   "source": [
    "# Ahora voy a cambiar las columnas para que Id este primero  \n",
    "amazon_prime.columns \n",
    "amazon_prime = amazon_prime.reindex(columns=[\"id\", \"title\", \"director\", \"cast\", \"country\", \"date_added\", \"release_year\", \"rating\", \"duration\", \"listed_in\", \"description\",\"type\"])  \n",
    "disney = disney.reindex(columns=[\"id\", \"title\", \"director\", \"cast\", \"country\", \"date_added\", \"release_year\", \"rating\", \"duration\", \"listed_in\", \"description\", \"type\"]) \n",
    "hulu = hulu.reindex(columns=[\"id\", \"title\", \"director\", \"cast\", \"country\", \"date_added\", \"release_year\", \"rating\", \"duration\", \"listed_in\", \"description\", \"type\"]) \n",
    "netflix = netflix.reindex(columns=[\"id\", \"title\", \"director\", \"cast\", \"country\", \"date_added\", \"release_year\", \"rating\", \"duration\", \"listed_in\", \"description\" ,\"type\"])"
   ]
  },
  {
   "cell_type": "code",
   "execution_count": null,
   "metadata": {},
   "outputs": [],
   "source": [
    "#remplazo los valores nulos del campo \"rating\" por la letra \"G\" \n",
    "amazon_prime[\"rating\"] = amazon_prime[\"rating\"].fillna(\"G\") \n",
    "disney[\"rating\"] = disney[\"rating\"].fillna(\"G\") \n",
    "hulu[\"rating\"] = hulu[\"rating\"].fillna(\"G\") \n",
    "netflix[\"rating\"] = netflix[\"rating\"].fillna(\"G\")"
   ]
  },
  {
   "cell_type": "code",
   "execution_count": null,
   "metadata": {},
   "outputs": [],
   "source": [
    "# Cambio la fecha al formato AAAA-mm-dd \n",
    "# Primero convierto la columna \"date_added\" a tipo datetime \n",
    "amazon_prime[\"date_added\"] = pd.to_datetime(amazon_prime[\"date_added\"]) \n",
    "amazon_prime[\"date_added\"] = amazon_prime[\"date_added\"].dt.strftime(\"%Y-%m-%d\") \n",
    "disney[\"date_added\"] = pd.to_datetime(disney[\"date_added\"]) \n",
    "disney[\"date_added\"] = disney[\"date_added\"].dt.strftime(\"%Y-%m-%d\") \n",
    "hulu[\"date_added\"] = pd.to_datetime(hulu[\"date_added\"])  \n",
    "hulu[\"date_added\"] = hulu[\"date_added\"].dt.strftime(\"%Y-%m-%d\")  \n",
    "netflix[\"date_added\"] = pd.to_datetime(netflix[\"date_added\"])  \n",
    "netflix[\"date_added\"] = netflix[\"date_added\"].dt.strftime(\"%Y-%m-%d\") "
   ]
  },
  {
   "cell_type": "code",
   "execution_count": null,
   "metadata": {},
   "outputs": [],
   "source": [
    "#Convierto Los campos de texto deberán estar en minúsculas   \n",
    "amazon_prime = amazon_prime.apply(lambda x: x.str.lower() if x.dtype == \"object\" else x) \n",
    "disney = disney.apply(lambda x: x.str.lower() if x.dtype == \"object\" else x) \n",
    "hulu = hulu.apply(lambda x: x.str.lower() if x.dtype == \"object\" else x) \n",
    "netflix = netflix.apply(lambda x: x.str.lower() if x.dtype == \"object\" else x)"
   ]
  },
  {
   "cell_type": "code",
   "execution_count": null,
   "metadata": {},
   "outputs": [],
   "source": [
    "# Convertirse en dos campos: duration_int y duration_type. El primero será un integer y el segundo un string indicando la unidad de medición de duración: min (minutos) o season (temporadas) \n",
    "# Divido la columna duration en dos columnas \n",
    "amazon_prime[[\"duration_int\", \"duration_type\"]] = amazon_prime[\"duration\"].str.split(\" \", expand=True)  \n",
    "disney[[\"duration_int\", \"duration_type\"]] = disney[\"duration\"].str.split(\" \", expand=True)  \n",
    "hulu[[\"duration_int\", \"duration_type\"]] = hulu[\"duration\"].str.split(\" \", expand=True)  \n",
    "netflix[[\"duration_int\", \"duration_type\"]] = netflix[\"duration\"].str.split(\" \", expand=True) \n",
    "# Convierto duration_int a integer. Pero antes voy a tener que cambiar los NaN en 0 para poder convertirlos en INT\n",
    "amazon_prime[\"duration_int\"].fillna(0, inplace=True)\n",
    "amazon_prime[\"duration_int\"] = amazon_prime[\"duration_int\"].astype(int)  \n",
    "disney[\"duration_int\"].fillna(0, inplace=True) \n",
    "disney[\"duration_int\"] = disney[\"duration_int\"].astype(int)  \n",
    "hulu[\"duration_int\"].fillna(0, inplace=True) \n",
    "hulu[\"duration_int\"] = hulu[\"duration_int\"].astype(int)  \n",
    "netflix[\"duration_int\"].fillna(0, inplace=True) \n",
    "netflix[\"duration_int\"] = netflix[\"duration_int\"].astype(int) \n",
    "# Elimino la columna original duration \n",
    "amazon_prime.drop(\"duration\", axis=1, inplace=True) \n",
    "disney.drop(\"duration\", axis=1, inplace=True) \n",
    "hulu.drop(\"duration\", axis=1, inplace=True) \n",
    "netflix.drop(\"duration\", axis=1, inplace=True)"
   ]
  },
  {
   "cell_type": "code",
   "execution_count": null,
   "metadata": {},
   "outputs": [],
   "source": [
    "# Concateno los 4 df(amazon,disney,hulu y netflix) en un solo dataframe  \n",
    "plataformas = pd.concat([amazon_prime, disney, hulu, netflix], axis=0) \n",
    "#Ahora lo que hago es restablecer los indices del dataframe resultante   \n",
    "plataformas.reset_index(drop=True, inplace=True)"
   ]
  },
  {
   "cell_type": "code",
   "execution_count": null,
   "metadata": {},
   "outputs": [],
   "source": [
    "#Por ultimo voy a crear un csv con ese dataframe concatenado \n",
    "plataformas.to_csv(\"plataformas.csv\", index=True)"
   ]
  },
  {
   "cell_type": "code",
   "execution_count": null,
   "metadata": {},
   "outputs": [],
   "source": [
    "plataformas"
   ]
  },
  {
   "attachments": {},
   "cell_type": "markdown",
   "metadata": {},
   "source": [
    "Elimino la columna \"Unnamed: 0\" ya que no es redundante"
   ]
  },
  {
   "cell_type": "code",
   "execution_count": null,
   "metadata": {},
   "outputs": [],
   "source": [
    "plataformas.drop(\"Unnamed: 0\", axis=1, inplace=True)"
   ]
  },
  {
   "attachments": {},
   "cell_type": "markdown",
   "metadata": {},
   "source": [
    "Ya tengo creado el csv plataformas, ahora debo llamar a los csv de ratings para luego crear la columna score"
   ]
  },
  {
   "cell_type": "code",
   "execution_count": null,
   "metadata": {},
   "outputs": [],
   "source": [
    "# Cargo los csv de ratings \n",
    "df1 = pd.read_csv(\"ratings/1.csv\") \n",
    "df2 = pd.read_csv(\"ratings/2.csv\") \n",
    "df3 = pd.read_csv(\"ratings/3.csv\") \n",
    "df4 = pd.read_csv(\"ratings/4.csv\") \n",
    "df5 = pd.read_csv(\"ratings/5.csv\") \n",
    "df6 = pd.read_csv(\"ratings/6.csv\") \n",
    "df7 = pd.read_csv(\"ratings/7.csv\") \n",
    "df8 = pd.read_csv(\"ratings/8.csv\")"
   ]
  },
  {
   "cell_type": "code",
   "execution_count": null,
   "metadata": {},
   "outputs": [],
   "source": [
    "# Concateno los 8 csv \n",
    "rating = pd.concat([df1, df2, df3, df4, df5, df6, df7, df8])"
   ]
  },
  {
   "cell_type": "code",
   "execution_count": null,
   "metadata": {},
   "outputs": [],
   "source": [
    "# Creo un nuevo dataframe, agrupando el df de raiting por la columna \"movieId\" teniendo en cuenta que el indice del dataframe no se establezca como la columna agrupada  \n",
    "# Luego un mean(promedio) de la columna rating en base a los agrupados y un round para redondear el numero despues de la , a 1. \n",
    "raiting_grouped = round(rating.groupby(\"movieId\", as_index=False)[\"rating\"].mean(),1)"
   ]
  },
  {
   "cell_type": "code",
   "execution_count": null,
   "metadata": {},
   "outputs": [],
   "source": [
    "# Cambio el nombre de la columna rating a score \n",
    "raiting_grouped = raiting_grouped.rename(columns={\"rating\": \"scored\"})"
   ]
  },
  {
   "cell_type": "code",
   "execution_count": null,
   "metadata": {},
   "outputs": [],
   "source": [
    "#Uno con un merge dentro del df_plataforma y df_grouped con las columna ID a la izquierda y la columna movieId a la derecha. \n",
    "plataformas = pd.merge(plataformas , raiting_grouped, left_on='id',right_on='movieId')\n",
    "rating_grouped = raiting_grouped.rename(columns={'rating': 'scored'})"
   ]
  },
  {
   "cell_type": "code",
   "execution_count": null,
   "metadata": {},
   "outputs": [],
   "source": [
    "#Elimino la columna movieId que ya no la necesito porque lo tengo en Id\n",
    "plataformas.drop(\"movieId\", axis=1, inplace=True)"
   ]
  },
  {
   "cell_type": "code",
   "execution_count": null,
   "metadata": {},
   "outputs": [],
   "source": [
    "#En esta parte tube que hacer un to_csv para guardar la columna nueva scored en el dataframe plataformas\n",
    "plataformas.to_csv(\"plataformas.csv\", index=True)"
   ]
  },
  {
   "cell_type": "code",
   "execution_count": null,
   "metadata": {},
   "outputs": [],
   "source": [
    "# Confirmo de que el dataframe este en condiciones para comenzar con las funciones \n",
    "plataformas"
   ]
  }
 ],
 "metadata": {
  "kernelspec": {
   "display_name": "Python 3",
   "language": "python",
   "name": "python3"
  },
  "language_info": {
   "codemirror_mode": {
    "name": "ipython",
    "version": 3
   },
   "file_extension": ".py",
   "mimetype": "text/x-python",
   "name": "python",
   "nbconvert_exporter": "python",
   "pygments_lexer": "ipython3",
   "version": "3.11.1"
  },
  "orig_nbformat": 4
 },
 "nbformat": 4,
 "nbformat_minor": 2
}
